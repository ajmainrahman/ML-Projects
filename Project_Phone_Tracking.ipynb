{
  "nbformat": 4,
  "nbformat_minor": 0,
  "metadata": {
    "colab": {
      "provenance": [],
      "authorship_tag": "ABX9TyMobv7mFX3DQNHdiLo+u4i0",
      "include_colab_link": true
    },
    "kernelspec": {
      "name": "python3",
      "display_name": "Python 3"
    },
    "language_info": {
      "name": "python"
    }
  },
  "cells": [
    {
      "cell_type": "markdown",
      "metadata": {
        "id": "view-in-github",
        "colab_type": "text"
      },
      "source": [
        "<a href=\"https://colab.research.google.com/github/ajmainrahman/ML-Projects/blob/main/Project_Phone_Tracking.ipynb\" target=\"_parent\"><img src=\"https://colab.research.google.com/assets/colab-badge.svg\" alt=\"Open In Colab\"/></a>"
      ]
    },
    {
      "cell_type": "code",
      "execution_count": 24,
      "metadata": {
        "colab": {
          "base_uri": "https://localhost:8080/"
        },
        "id": "jdCtldpjtJph",
        "outputId": "15714b55-224e-42e1-ee8e-0b47e6445af2"
      },
      "outputs": [
        {
          "output_type": "stream",
          "name": "stdout",
          "text": [
            "Looking in indexes: https://pypi.org/simple, https://us-python.pkg.dev/colab-wheels/public/simple/\n",
            "Requirement already satisfied: phonenumbers in /usr/local/lib/python3.9/dist-packages (8.13.8)\n"
          ]
        }
      ],
      "source": [
        "pip install phonenumbers"
      ]
    },
    {
      "cell_type": "code",
      "source": [
        "import phonenumbers"
      ],
      "metadata": {
        "id": "LDKebv-Jtq1B"
      },
      "execution_count": 25,
      "outputs": []
    },
    {
      "cell_type": "code",
      "source": [
        "from phonenumbers import geocoder,carrier,timezone"
      ],
      "metadata": {
        "id": "L8MDA6xruQnO"
      },
      "execution_count": 26,
      "outputs": []
    },
    {
      "cell_type": "code",
      "source": [
        "number = input(\"Enter your phone number here: \")"
      ],
      "metadata": {
        "colab": {
          "base_uri": "https://localhost:8080/"
        },
        "id": "IpFEqWtguWUN",
        "outputId": "f4a79120-829a-4698-fa2f-98d6485d1bdb"
      },
      "execution_count": 29,
      "outputs": [
        {
          "name": "stdout",
          "output_type": "stream",
          "text": [
            "Enter your phone number here: +8801784518051\n"
          ]
        }
      ]
    },
    {
      "cell_type": "code",
      "source": [
        "number = phonenumbers.parse(number)"
      ],
      "metadata": {
        "id": "uU-7PakRwgwI"
      },
      "execution_count": 30,
      "outputs": []
    },
    {
      "cell_type": "code",
      "source": [
        "print(geocoder.description_for_number(number,'en'))"
      ],
      "metadata": {
        "id": "sc24-lpYwrdw",
        "colab": {
          "base_uri": "https://localhost:8080/"
        },
        "outputId": "05892052-14fe-4f6e-cce8-9b8d85393a7a"
      },
      "execution_count": 31,
      "outputs": [
        {
          "output_type": "stream",
          "name": "stdout",
          "text": [
            "Bangladesh\n"
          ]
        }
      ]
    },
    {
      "cell_type": "code",
      "source": [
        "print(carrier.name_for_number(number,'en'))"
      ],
      "metadata": {
        "colab": {
          "base_uri": "https://localhost:8080/"
        },
        "id": "R4yCp0XgxFXg",
        "outputId": "9914b877-897d-4358-83ef-dfb8b0675eba"
      },
      "execution_count": 32,
      "outputs": [
        {
          "output_type": "stream",
          "name": "stdout",
          "text": [
            "Grameenphone\n"
          ]
        }
      ]
    },
    {
      "cell_type": "code",
      "source": [
        "print(timezone.time_zones_for_number(number))"
      ],
      "metadata": {
        "id": "sI0p_D-NxfZt",
        "colab": {
          "base_uri": "https://localhost:8080/"
        },
        "outputId": "30c39259-4dc7-40b0-cefa-0a885301607d"
      },
      "execution_count": 33,
      "outputs": [
        {
          "output_type": "stream",
          "name": "stdout",
          "text": [
            "('Asia/Dhaka',)\n"
          ]
        }
      ]
    },
    {
      "cell_type": "code",
      "source": [],
      "metadata": {
        "id": "fJj0cvq1yLNq"
      },
      "execution_count": null,
      "outputs": []
    }
  ]
}